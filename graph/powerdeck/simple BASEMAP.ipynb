{
 "cells": [
  {
   "cell_type": "code",
   "execution_count": 1,
   "metadata": {},
   "outputs": [],
   "source": [
    "#http://joehamman.com/2013/10/12/plotting-netCDF-data-with-Python/"
   ]
  },
  {
   "cell_type": "code",
   "execution_count": 4,
   "metadata": {},
   "outputs": [
    {
     "ename": "ImportError",
     "evalue": "No module named basemap",
     "output_type": "error",
     "traceback": [
      "\u001b[0;31m---------------------------------------------------------------------------\u001b[0m",
      "\u001b[0;31mImportError\u001b[0m                               Traceback (most recent call last)",
      "\u001b[0;32m<ipython-input-4-1cdf7f9843e7>\u001b[0m in \u001b[0;36m<module>\u001b[0;34m()\u001b[0m\n\u001b[1;32m     14\u001b[0m \u001b[0;34m\u001b[0m\u001b[0m\n\u001b[1;32m     15\u001b[0m \u001b[0;32mimport\u001b[0m \u001b[0mmatplotlib\u001b[0m\u001b[0;34m.\u001b[0m\u001b[0mpyplot\u001b[0m \u001b[0;32mas\u001b[0m \u001b[0mplt\u001b[0m\u001b[0;34m\u001b[0m\u001b[0m\n\u001b[0;32m---> 16\u001b[0;31m \u001b[0;32mfrom\u001b[0m \u001b[0mmpl_toolkits\u001b[0m\u001b[0;34m.\u001b[0m\u001b[0mbasemap\u001b[0m \u001b[0;32mimport\u001b[0m \u001b[0mBasemap\u001b[0m\u001b[0;34m\u001b[0m\u001b[0m\n\u001b[0m\u001b[1;32m     17\u001b[0m \u001b[0;34m\u001b[0m\u001b[0m\n\u001b[1;32m     18\u001b[0m \u001b[0;31m# Get some parameters for the Stereographic Projection\u001b[0m\u001b[0;34m\u001b[0m\u001b[0;34m\u001b[0m\u001b[0m\n",
      "\u001b[0;31mImportError\u001b[0m: No module named basemap"
     ]
    }
   ],
   "source": [
    "from netCDF4 import Dataset\n",
    "import numpy as np\n",
    "\n",
    "my_example_nc_file = '/mnt/y/Data/Weather/ECMWF/Data_R/ml/2008/01/era5_hourly_ml_AUS_200801.nc'\n",
    "fh = Dataset(my_example_nc_file, mode='r')\n",
    "\n",
    "lons = fh.variables['longitude'][:]\n",
    "lats = fh.variables['latitude'][:]\n",
    "tmax = fh.variables['t2m'][:]\n",
    "\n",
    "tmax_units = fh.variables['t2m'].units\n",
    "\n",
    "fh.close()\n",
    "\n",
    "import matplotlib.pyplot as plt\n",
    "from mpl_toolkits.basemap import Basemap\n",
    "\n",
    "# Get some parameters for the Stereographic Projection\n",
    "lon_0 = lons.mean()\n",
    "lat_0 = lats.mean()\n",
    "\n",
    "m = Basemap(width=5000000,height=3500000,\n",
    "            resolution='l',projection='stere',\\\n",
    "            lat_ts=40,lat_0=lat_0,lon_0=lon_0)\n",
    "\n",
    "# Because our lon and lat variables are 1D,\n",
    "# use meshgrid to create 2D arrays\n",
    "# Not necessary if coordinates are already in 2D arrays.\n",
    "lon, lat = np.meshgrid(lons, lats)\n",
    "xi, yi = m(lon, lat)\n",
    "\n",
    "# Plot Data\n",
    "cs = m.pcolor(xi,yi,np.squeeze(tmax))\n",
    "\n",
    "# Add Grid Lines\n",
    "m.drawparallels(np.arange(-80., 81., 10.), labels=[1,0,0,0], fontsize=10)\n",
    "m.drawmeridians(np.arange(-180., 181., 10.), labels=[0,0,0,1], fontsize=10)\n",
    "\n",
    "# Add Coastlines, States, and Country Boundaries\n",
    "m.drawcoastlines()\n",
    "m.drawstates()\n",
    "m.drawcountries()\n",
    "\n",
    "# Add Colorbar\n",
    "cbar = m.colorbar(cs, location='bottom', pad=\"10%\")\n",
    "cbar.set_label(tmax_units)\n",
    "\n",
    "# Add Title\n",
    "plt.title('DJF Maximum Temperature')\n",
    "\n",
    "plt.show()"
   ]
  },
  {
   "cell_type": "code",
   "execution_count": null,
   "metadata": {},
   "outputs": [],
   "source": []
  }
 ],
 "metadata": {
  "kernelspec": {
   "display_name": "Python 2",
   "language": "python",
   "name": "python2"
  },
  "language_info": {
   "codemirror_mode": {
    "name": "ipython",
    "version": 2
   },
   "file_extension": ".py",
   "mimetype": "text/x-python",
   "name": "python",
   "nbconvert_exporter": "python",
   "pygments_lexer": "ipython2",
   "version": "2.7.12"
  }
 },
 "nbformat": 4,
 "nbformat_minor": 2
}
